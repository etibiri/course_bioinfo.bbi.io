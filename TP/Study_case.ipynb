{
 "cells": [
  {
   "cell_type": "markdown",
   "id": "a6f982ca",
   "metadata": {},
   "source": [
    "# Étude de Cas : analyse de séquences ADN et exploration de données métagénomiques"
   ]
  },
  {
   "cell_type": "markdown",
   "id": "4282ae08",
   "metadata": {},
   "source": [
    "## Contexte\n",
    "\n",
    "Vous êtes un bioinformaticien travaillant sur l’analyse de séquences ADN issues d’un séquençage métagénomique à l’aide de la technologie Nanopore. Votre objectif est de détecter la présence de virus potentiellement pathogènes dans un échantillon environnemental."
   ]
  },
  {
   "cell_type": "markdown",
   "id": "ce867514",
   "metadata": {},
   "source": [
    "## Objectifs pédagogiques\n",
    " - Comprendre le format FASTQ et manipuler des séquences ADN.\n",
    " - Apprendre à filtrer les lectures et à évaluer leur qualité.\n",
    " - Effectuer un alignement des lectures sur une base de données de référence.\n",
    " - Explorer et visualiser les résultats sous forme de graphiques.\n",
    " - Interpréter des résultats d’analyse métagénomique."
   ]
  },
  {
   "cell_type": "markdown",
   "id": "c7b92e77",
   "metadata": {},
   "source": [
    "## Outils requis\n",
    " - Bash\n",
    " - FastQC : Contrôle qualité des séquences\n",
    " - Minimap2 : Alignement des lectures sur une base de données\n",
    " - Samtools : Manipulation et filtrage des fichiers d’alignement"
   ]
  },
  {
   "cell_type": "markdown",
   "id": "e9c528c2",
   "metadata": {},
   "source": [
    "## Étape 1 : Contrôle qualité des lectures"
   ]
  },
  {
   "cell_type": "code",
   "execution_count": null,
   "id": "c22697ac",
   "metadata": {},
   "outputs": [],
   "source": [
    "cd ~/Documents/2025/etibiri.github.io/data\n",
    "fastqc data.fastq -o output/"
   ]
  },
  {
   "cell_type": "markdown",
   "id": "48db3e46",
   "metadata": {},
   "source": [
    "## Étape 2 : Filtrage des séquences de mauvaise qualité"
   ]
  },
  {
   "cell_type": "code",
   "execution_count": null,
   "id": "67b100ae",
   "metadata": {},
   "outputs": [],
   "source": [
    "cd ~/Documents/2025/etibiri.github.io/data\n",
    "seqtk trimfq -q 20 data.fastq > output/filtered_reads.fastq"
   ]
  },
  {
   "cell_type": "markdown",
   "id": "ccfcf516",
   "metadata": {},
   "source": [
    "## Étape 3 : Alignement avec Minimap2"
   ]
  },
  {
   "cell_type": "code",
   "execution_count": null,
   "id": "71fd507e",
   "metadata": {},
   "outputs": [],
   "source": [
    "cd ~/Documents/2025/etibiri.github.io/data\n",
    "minimap2 -ax map-ont reference_database.mmi data/filtered_reads.fastq > data/alignment.sam"
   ]
  },
  {
   "cell_type": "markdown",
   "id": "a28c4785",
   "metadata": {},
   "source": [
    "## Étape 4 : Conversion et tri du fichier SAM en BAM"
   ]
  },
  {
   "cell_type": "code",
   "execution_count": null,
   "id": "f6ff5ce4",
   "metadata": {},
   "outputs": [],
   "source": [
    "!samtools view -S -b data/alignment.sam | samtools sort -o data/alignment_sorted.bam"
   ]
  },
  {
   "cell_type": "markdown",
   "id": "a538b52f",
   "metadata": {},
   "source": [
    "## Étape 5 : Comptage des lectures alignées"
   ]
  },
  {
   "cell_type": "code",
   "execution_count": null,
   "id": "d91b3ac7",
   "metadata": {},
   "outputs": [],
   "source": [
    "!samtools idxstats data/alignment_sorted.bam"
   ]
  }
 ],
 "metadata": {
  "kernelspec": {
   "display_name": "Python 3 (ipykernel)",
   "language": "python",
   "name": "python3"
  },
  "language_info": {
   "codemirror_mode": {
    "name": "ipython",
    "version": 3
   },
   "file_extension": ".py",
   "mimetype": "text/x-python",
   "name": "python",
   "nbconvert_exporter": "python",
   "pygments_lexer": "ipython3",
   "version": "3.12.3"
  }
 },
 "nbformat": 4,
 "nbformat_minor": 5
}
